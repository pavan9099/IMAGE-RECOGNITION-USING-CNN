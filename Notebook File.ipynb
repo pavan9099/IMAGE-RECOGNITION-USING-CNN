{
 "cells": [
  {
   "cell_type": "code",
   "execution_count": 2,
   "id": "bb909ece",
   "metadata": {},
   "outputs": [
    {
     "name": "stdout",
     "output_type": "stream",
     "text": [
      "WARNING:tensorflow:From C:\\Users\\pavan\\anaconda3\\Lib\\site-packages\\keras\\src\\losses.py:2976: The name tf.losses.sparse_softmax_cross_entropy is deprecated. Please use tf.compat.v1.losses.sparse_softmax_cross_entropy instead.\n",
      "\n"
     ]
    }
   ],
   "source": [
    "import numpy as np\n",
    "from tensorflow.keras.preprocessing.image import ImageDataGenerator\n",
    "from tensorflow.keras.models import Sequential\n",
    "from tensorflow.keras.layers import Conv2D,MaxPooling2D,Flatten,Dense"
   ]
  },
  {
   "cell_type": "code",
   "execution_count": 3,
   "id": "5ecb1449",
   "metadata": {},
   "outputs": [],
   "source": [
    "train_data=\"Training Data\""
   ]
  },
  {
   "cell_type": "code",
   "execution_count": 4,
   "id": "99820edb",
   "metadata": {},
   "outputs": [],
   "source": [
    "test_data='Test Data'"
   ]
  },
  {
   "cell_type": "code",
   "execution_count": 5,
   "id": "d20dfb55",
   "metadata": {},
   "outputs": [],
   "source": [
    "train_data_gen=ImageDataGenerator(rescale=1./255)\n",
    "test_data_gen=ImageDataGenerator(rescale=1./255)"
   ]
  },
  {
   "cell_type": "code",
   "execution_count": 6,
   "id": "591cf385",
   "metadata": {},
   "outputs": [
    {
     "name": "stdout",
     "output_type": "stream",
     "text": [
      "Found 631 images belonging to 12 classes.\n"
     ]
    }
   ],
   "source": [
    "train_generator=train_data_gen.flow_from_directory(train_data,target_size=(150,150),batch_size=64,class_mode=\"binary\")"
   ]
  },
  {
   "cell_type": "code",
   "execution_count": 7,
   "id": "750ad1ed",
   "metadata": {},
   "outputs": [
    {
     "name": "stdout",
     "output_type": "stream",
     "text": [
      "Found 233 images belonging to 5 classes.\n"
     ]
    }
   ],
   "source": [
    "test_generator=train_data_gen.flow_from_directory(test_data,target_size=(150,150),batch_size=64,class_mode=\"binary\")"
   ]
  },
  {
   "cell_type": "code",
   "execution_count": 8,
   "id": "cb2b6817",
   "metadata": {},
   "outputs": [
    {
     "name": "stdout",
     "output_type": "stream",
     "text": [
      "WARNING:tensorflow:From C:\\Users\\pavan\\anaconda3\\Lib\\site-packages\\keras\\src\\backend.py:873: The name tf.get_default_graph is deprecated. Please use tf.compat.v1.get_default_graph instead.\n",
      "\n",
      "WARNING:tensorflow:From C:\\Users\\pavan\\anaconda3\\Lib\\site-packages\\keras\\src\\layers\\pooling\\max_pooling2d.py:161: The name tf.nn.max_pool is deprecated. Please use tf.nn.max_pool2d instead.\n",
      "\n"
     ]
    }
   ],
   "source": [
    "model = Sequential([\n",
    "    Conv2D(32, (3, 3), activation='relu', input_shape=(150, 150, 3)),\n",
    "    MaxPooling2D(2, 2),\n",
    "    Conv2D(64, (3, 3), activation='relu'),\n",
    "    MaxPooling2D(2, 2),\n",
    "    Conv2D(128, (3, 3), activation='relu'),\n",
    "    MaxPooling2D(2, 2),\n",
    "    Conv2D(128, (3, 3), activation='relu'),\n",
    "    MaxPooling2D(2, 2),\n",
    "    Flatten(),\n",
    "    Dense(512, activation='relu'),\n",
    "    Dense(1, activation='sigmoid')\n",
    "])"
   ]
  },
  {
   "cell_type": "code",
   "execution_count": 9,
   "id": "443e4935",
   "metadata": {},
   "outputs": [
    {
     "name": "stdout",
     "output_type": "stream",
     "text": [
      "WARNING:tensorflow:From C:\\Users\\pavan\\anaconda3\\Lib\\site-packages\\keras\\src\\optimizers\\__init__.py:309: The name tf.train.Optimizer is deprecated. Please use tf.compat.v1.train.Optimizer instead.\n",
      "\n",
      "Epoch 1/10\n",
      "WARNING:tensorflow:From C:\\Users\\pavan\\anaconda3\\Lib\\site-packages\\keras\\src\\utils\\tf_utils.py:492: The name tf.ragged.RaggedTensorValue is deprecated. Please use tf.compat.v1.ragged.RaggedTensorValue instead.\n",
      "\n",
      "WARNING:tensorflow:From C:\\Users\\pavan\\anaconda3\\Lib\\site-packages\\keras\\src\\engine\\base_layer_utils.py:384: The name tf.executing_eagerly_outside_functions is deprecated. Please use tf.compat.v1.executing_eagerly_outside_functions instead.\n",
      "\n",
      "10/10 [==============================] - 50s 5s/step - loss: -2423.0737 - accuracy: 0.0032 - val_loss: -2185.6819 - val_accuracy: 0.4464\n",
      "Epoch 2/10\n",
      "10/10 [==============================] - 42s 4s/step - loss: -189533.0781 - accuracy: 0.0032 - val_loss: -99112.9531 - val_accuracy: 0.4464\n",
      "Epoch 3/10\n",
      "10/10 [==============================] - 45s 5s/step - loss: -3744625.5000 - accuracy: 0.0032 - val_loss: -1545411.2500 - val_accuracy: 0.4464\n",
      "Epoch 4/10\n",
      "10/10 [==============================] - 44s 5s/step - loss: -40248912.0000 - accuracy: 0.0032 - val_loss: -13452571.0000 - val_accuracy: 0.4464\n",
      "Epoch 5/10\n",
      "10/10 [==============================] - 46s 5s/step - loss: -273243520.0000 - accuracy: 0.0032 - val_loss: -78824312.0000 - val_accuracy: 0.4464\n",
      "Epoch 6/10\n",
      "10/10 [==============================] - 45s 5s/step - loss: -1346726784.0000 - accuracy: 0.0032 - val_loss: -350502944.0000 - val_accuracy: 0.4464\n",
      "Epoch 7/10\n",
      "10/10 [==============================] - 42s 4s/step - loss: -5312316928.0000 - accuracy: 0.0032 - val_loss: -1267128960.0000 - val_accuracy: 0.4464\n",
      "Epoch 8/10\n",
      "10/10 [==============================] - 41s 4s/step - loss: -17504718848.0000 - accuracy: 0.0032 - val_loss: -3901907968.0000 - val_accuracy: 0.4464\n",
      "Epoch 9/10\n",
      "10/10 [==============================] - 41s 4s/step - loss: -50966192128.0000 - accuracy: 0.0032 - val_loss: -10563263488.0000 - val_accuracy: 0.4464\n",
      "Epoch 10/10\n",
      "10/10 [==============================] - 44s 5s/step - loss: -128348684288.0000 - accuracy: 0.0032 - val_loss: -25769168896.0000 - val_accuracy: 0.4464\n"
     ]
    },
    {
     "data": {
      "text/plain": [
       "<keras.src.callbacks.History at 0x1f338c64f10>"
      ]
     },
     "execution_count": 9,
     "metadata": {},
     "output_type": "execute_result"
    }
   ],
   "source": [
    "model.compile(optimizer=\"adam\",loss='binary_crossentropy',metrics=['accuracy'])\n",
    "model.fit(train_generator,epochs=10,validation_data=test_generator)\n"
   ]
  },
  {
   "cell_type": "code",
   "execution_count": 10,
   "id": "46a9c813",
   "metadata": {},
   "outputs": [],
   "source": []
  },
  {
   "cell_type": "code",
   "execution_count": 11,
   "id": "074e769b",
   "metadata": {},
   "outputs": [],
   "source": [
    "cat_system=sqlite3.connect('data_catalog.db')\n",
    "cat_system2=cat_system.cursor()"
   ]
  },
  {
   "cell_type": "code",
   "execution_count": 12,
   "id": "42ade483",
   "metadata": {
    "scrolled": true
   },
   "outputs": [
    {
     "data": {
      "text/plain": [
       "<sqlite3.Cursor at 0x1f33e82afc0>"
      ]
     },
     "execution_count": 12,
     "metadata": {},
     "output_type": "execute_result"
    }
   ],
   "source": [
    "cat_system2.execute('''CREATE TABLE IF NOT EXISTS datasets\n",
    "             (id INTEGER PRIMARY KEY, name TEXT, description TEXT, tags TEXT)''')\n"
   ]
  },
  {
   "cell_type": "code",
   "execution_count": 13,
   "id": "6c014b48",
   "metadata": {},
   "outputs": [],
   "source": [
    "def add_dataset(name, description, tags):\n",
    "    cat_system2.execute(\"INSERT INTO datasets (name, description, tags) VALUES (?, ?, ?)\", (name, description, tags))\n",
    "    cat_system.commit()"
   ]
  },
  {
   "cell_type": "code",
   "execution_count": 14,
   "id": "6a12082b",
   "metadata": {},
   "outputs": [],
   "source": [
    "def get_datasets(cat_system2):\n",
    "    cat_system2.execute(\"SELECT * FROM datasets\")\n",
    "    return cat_system2.fetchall()\n"
   ]
  },
  {
   "cell_type": "code",
   "execution_count": 15,
   "id": "033a5666",
   "metadata": {},
   "outputs": [],
   "source": [
    "datasets = get_datasets(cat_system2)"
   ]
  },
  {
   "cell_type": "code",
   "execution_count": 16,
   "id": "6b229b4b",
   "metadata": {},
   "outputs": [],
   "source": [
    "def search_dataset(keyword):\n",
    "    cat_system2.execute(\"SELECT * FROM datasets WHERE name LIKE ? OR description LIKE ? OR tags LIKE ?\", \n",
    "                        ('%' + keyword + '%', '%' + keyword + '%', '%' + keyword + '%'))\n",
    "    return cat_system2.fetchall()\n"
   ]
  },
  {
   "cell_type": "code",
   "execution_count": 17,
   "id": "52430b47",
   "metadata": {},
   "outputs": [],
   "source": [
    "import os\n"
   ]
  },
  {
   "cell_type": "code",
   "execution_count": 18,
   "id": "262b2620",
   "metadata": {},
   "outputs": [],
   "source": [
    "def automate_data_processing():\n",
    "    incoming_data_dir='incoming_data'\n",
    "    for root,dirs,files in os.walk(incoming_data_dir):\n",
    "        for file in files:\n",
    "            cleaned_data=clean_and_classify_data(os.path.join(root,file))\n",
    "            name=os.path.splittext(file)[0]\n",
    "            description='Automatically Process DataSet'\n",
    "            tags='Automated,Processed'\n",
    "            add_dataset(name,description,tags)\n",
    "        "
   ]
  },
  {
   "cell_type": "code",
   "execution_count": 20,
   "id": "a3b1a891",
   "metadata": {},
   "outputs": [
    {
     "name": "stdout",
     "output_type": "stream",
     "text": [
      "INFO:tensorflow:Assets written to: ..Models/1\\assets\n"
     ]
    },
    {
     "name": "stderr",
     "output_type": "stream",
     "text": [
      "INFO:tensorflow:Assets written to: ..Models/1\\assets\n"
     ]
    }
   ],
   "source": [
    "model.save(f\"..Models/{1}\")"
   ]
  }
 ],
 "metadata": {
  "kernelspec": {
   "display_name": "Python 3 (ipykernel)",
   "language": "python",
   "name": "python3"
  },
  "language_info": {
   "codemirror_mode": {
    "name": "ipython",
    "version": 3
   },
   "file_extension": ".py",
   "mimetype": "text/x-python",
   "name": "python",
   "nbconvert_exporter": "python",
   "pygments_lexer": "ipython3",
   "version": "3.11.5"
  }
 },
 "nbformat": 4,
 "nbformat_minor": 5
}
