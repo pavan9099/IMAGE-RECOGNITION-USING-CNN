{
 "cells": [
  {
   "cell_type": "code",
   "execution_count": 1,
   "id": "dfa3235f",
   "metadata": {},
   "outputs": [],
   "source": [
    "from flask import Flask, jsonify, request"
   ]
  },
  {
   "cell_type": "code",
   "execution_count": 2,
   "id": "986e4034",
   "metadata": {},
   "outputs": [],
   "source": [
    "app = Flask('The Library')"
   ]
  },
  {
   "cell_type": "code",
   "execution_count": 3,
   "id": "edab9e1d",
   "metadata": {},
   "outputs": [],
   "source": [
    "@app.route('/Datasets/Test data', methods=['GET'])\n",
    "def get_all_datasets():\n",
    "    datasets = get_datasets()\n",
    "    return jsonify(datasets)"
   ]
  },
  {
   "cell_type": "code",
   "execution_count": 4,
   "id": "00cbea4f",
   "metadata": {},
   "outputs": [],
   "source": [
    "@app.route('/Datasets/Test data/search', methods=['GET'])\n",
    "def search_datasets():\n",
    "    keyword = request.args.get('q')\n",
    "    datasets = search_dataset(keyword)\n",
    "    return jsonify(datasets)"
   ]
  },
  {
   "cell_type": "code",
   "execution_count": 6,
   "id": "93fa6664",
   "metadata": {},
   "outputs": [],
   "source": [
    "@app.route('/datasets', methods=['POST'])\n",
    "def add_new_dataset():\n",
    "    data = request.get_json()\n",
    "    \n",
    "    \n",
    "    name= data.get('name')\n",
    "    description = data.get('description')\n",
    "    tags = data.get('tags')\n",
    "    add_dataset(name, description, tags)\n",
    "    return jsonify({'message': 'Dataset added successfully'})"
   ]
  },
  {
   "cell_type": "code",
   "execution_count": 9,
   "id": "ec4d466d",
   "metadata": {},
   "outputs": [],
   "source": [
    "if __name__== '_main_':\n",
    "    app.run(debug=True)"
   ]
  },
  {
   "cell_type": "code",
   "execution_count": null,
   "id": "ba594eb2",
   "metadata": {},
   "outputs": [],
   "source": []
  }
 ],
 "metadata": {
  "kernelspec": {
   "display_name": "Python 3 (ipykernel)",
   "language": "python",
   "name": "python3"
  },
  "language_info": {
   "codemirror_mode": {
    "name": "ipython",
    "version": 3
   },
   "file_extension": ".py",
   "mimetype": "text/x-python",
   "name": "python",
   "nbconvert_exporter": "python",
   "pygments_lexer": "ipython3",
   "version": "3.11.5"
  }
 },
 "nbformat": 4,
 "nbformat_minor": 5
}
